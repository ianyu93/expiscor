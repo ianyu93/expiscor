{
 "metadata": {
  "language_info": {
   "codemirror_mode": {
    "name": "ipython",
    "version": 3
   },
   "file_extension": ".py",
   "mimetype": "text/x-python",
   "name": "python",
   "nbconvert_exporter": "python",
   "pygments_lexer": "ipython3",
   "version": "3.9.2"
  },
  "orig_nbformat": 2,
  "kernelspec": {
   "name": "python392jvsc74a57bd0e5904b8932ad9acbb6a8a69dd58267713ef8b50a3edd614a98e4fb70256867de",
   "display_name": "Python 3.9.2 64-bit ('deeplearning': conda)"
  }
 },
 "nbformat": 4,
 "nbformat_minor": 2,
 "cells": [
  {
   "source": [
    "# Expiscor \n",
    "This Notebook is a an exploration to Expiscor modules. \n",
    "\n",
    "The first module is `mpt.py`, which calculates the necessary functions Modern Portfolio Theory. "
   ],
   "cell_type": "markdown",
   "metadata": {}
  },
  {
   "cell_type": "code",
   "execution_count": 31,
   "metadata": {},
   "outputs": [],
   "source": [
    "import numpy as np\n",
    "import pandas as pd\n",
    "import matplotlib.pyplot as plt\n",
    "import yfinance as yf\n",
    "import requests\n",
    "import plotly.express as px\n",
    "import datetime"
   ]
  },
  {
   "cell_type": "code",
   "execution_count": 8,
   "metadata": {},
   "outputs": [],
   "source": [
    "# Define a search query\n",
    "def search(query):\n",
    "  return pd.DataFrame(requests.get(f\"http://d.yimg.com/autoc.finance.yahoo.com/autoc?query={query}&region=1&lang=en\").json()['ResultSet']['Result'])"
   ]
  },
  {
   "cell_type": "code",
   "execution_count": 47,
   "metadata": {},
   "outputs": [
    {
     "output_type": "execute_result",
     "data": {
      "text/plain": [
       "  symbol                                     name exch type  exchDisp typeDisp\n",
       "0   SQSP                        Squarespace, Inc.  NYS    S      NYSE   Equity\n",
       "1   SMWB                          SIMILARWEB LTD.  NYS    S      NYSE   Equity\n",
       "2  SHQAU  Shelter Acquisition Corporation I Units  NAS    S    NASDAQ   Equity\n",
       "3   SKLZ                              Skillz Inc.  NYQ    S      NYSE   Equity\n",
       "4    SPY                   SPDR S&P 500 ETF Trust  PCX    E  NYSEArca      ETF\n",
       "5   SPCE           Virgin Galactic Holdings, Inc.  NYQ    S      NYSE   Equity\n",
       "6   SRNE              Sorrento Therapeutics, Inc.  NMS    S    NASDAQ   Equity\n",
       "7   SNDL                     Sundial Growers Inc.  NMS    S    NASDAQ   Equity\n",
       "8     SQ                             Square, Inc.  NYQ    S      NYSE   Equity\n",
       "9   SHOP                             Shopify Inc.  NYQ    S      NYSE   Equity"
      ],
      "text/html": "<div>\n<style scoped>\n    .dataframe tbody tr th:only-of-type {\n        vertical-align: middle;\n    }\n\n    .dataframe tbody tr th {\n        vertical-align: top;\n    }\n\n    .dataframe thead th {\n        text-align: right;\n    }\n</style>\n<table border=\"1\" class=\"dataframe\">\n  <thead>\n    <tr style=\"text-align: right;\">\n      <th></th>\n      <th>symbol</th>\n      <th>name</th>\n      <th>exch</th>\n      <th>type</th>\n      <th>exchDisp</th>\n      <th>typeDisp</th>\n    </tr>\n  </thead>\n  <tbody>\n    <tr>\n      <th>0</th>\n      <td>SQSP</td>\n      <td>Squarespace, Inc.</td>\n      <td>NYS</td>\n      <td>S</td>\n      <td>NYSE</td>\n      <td>Equity</td>\n    </tr>\n    <tr>\n      <th>1</th>\n      <td>SMWB</td>\n      <td>SIMILARWEB LTD.</td>\n      <td>NYS</td>\n      <td>S</td>\n      <td>NYSE</td>\n      <td>Equity</td>\n    </tr>\n    <tr>\n      <th>2</th>\n      <td>SHQAU</td>\n      <td>Shelter Acquisition Corporation I Units</td>\n      <td>NAS</td>\n      <td>S</td>\n      <td>NASDAQ</td>\n      <td>Equity</td>\n    </tr>\n    <tr>\n      <th>3</th>\n      <td>SKLZ</td>\n      <td>Skillz Inc.</td>\n      <td>NYQ</td>\n      <td>S</td>\n      <td>NYSE</td>\n      <td>Equity</td>\n    </tr>\n    <tr>\n      <th>4</th>\n      <td>SPY</td>\n      <td>SPDR S&amp;P 500 ETF Trust</td>\n      <td>PCX</td>\n      <td>E</td>\n      <td>NYSEArca</td>\n      <td>ETF</td>\n    </tr>\n    <tr>\n      <th>5</th>\n      <td>SPCE</td>\n      <td>Virgin Galactic Holdings, Inc.</td>\n      <td>NYQ</td>\n      <td>S</td>\n      <td>NYSE</td>\n      <td>Equity</td>\n    </tr>\n    <tr>\n      <th>6</th>\n      <td>SRNE</td>\n      <td>Sorrento Therapeutics, Inc.</td>\n      <td>NMS</td>\n      <td>S</td>\n      <td>NASDAQ</td>\n      <td>Equity</td>\n    </tr>\n    <tr>\n      <th>7</th>\n      <td>SNDL</td>\n      <td>Sundial Growers Inc.</td>\n      <td>NMS</td>\n      <td>S</td>\n      <td>NASDAQ</td>\n      <td>Equity</td>\n    </tr>\n    <tr>\n      <th>8</th>\n      <td>SQ</td>\n      <td>Square, Inc.</td>\n      <td>NYQ</td>\n      <td>S</td>\n      <td>NYSE</td>\n      <td>Equity</td>\n    </tr>\n    <tr>\n      <th>9</th>\n      <td>SHOP</td>\n      <td>Shopify Inc.</td>\n      <td>NYQ</td>\n      <td>S</td>\n      <td>NYSE</td>\n      <td>Equity</td>\n    </tr>\n  </tbody>\n</table>\n</div>"
     },
     "metadata": {},
     "execution_count": 47
    }
   ],
   "source": [
    "# Example\n",
    "search(\"S&P 500\")"
   ]
  },
  {
   "cell_type": "code",
   "execution_count": 15,
   "metadata": {},
   "outputs": [
    {
     "output_type": "execute_result",
     "data": {
      "text/plain": [
       "'S&P 500 INDEX'"
      ]
     },
     "metadata": {},
     "execution_count": 15
    }
   ],
   "source": [
    "get_symbol(\"^SPX\")"
   ]
  },
  {
   "cell_type": "code",
   "execution_count": 13,
   "metadata": {},
   "outputs": [],
   "source": [
    "def get_symbol(symbol):\n",
    "    url = f\"http://d.yimg.com/autoc.finance.yahoo.com/autoc?query={symbol}&region=1&lang=en\"\n",
    "\n",
    "    result = requests.get(url).json()\n",
    "\n",
    "    for x in result['ResultSet']['Result']:\n",
    "        if x['symbol'] == symbol:\n",
    "            return x['name']"
   ]
  },
  {
   "cell_type": "code",
   "execution_count": 32,
   "metadata": {},
   "outputs": [],
   "source": [
    "def validate(date_text):\n",
    "  '''\n",
    "  A function that validates if date_text is actually date_text\n",
    "  '''\n",
    "  try: \n",
    "      datetime.datetime.strptime(date_text, '%Y-%m-%d')\n",
    "  except ValueError:\n",
    "      raise ValueError(\"錯誤數據格式，必須是YYYY-MM-DD的日期格式\")\n",
    "def getport(start, end, symbols):\n",
    "  '''\n",
    "  A function that collects all data from a list of assets from Yahoo! Finance\n",
    "  '''\n",
    "  assets = [get_symbol(x) for x in symbols]\n",
    "  validate(start)\n",
    "  validate(end)\n",
    "  # Define date_range\n",
    "  date_range = pd.date_range(\n",
    "    start = start,\n",
    "    end = end,  \n",
    "    freq = 'B', \n",
    "    normalize = True\n",
    "    )\n",
    "  \n",
    "  \n",
    "  df_list = [yf.Ticker(symbol).history(start=start, end=end) for symbol in symbols]\n",
    "  for df, asset in zip(df_list, assets):\n",
    "    col_list = df.drop('Close', axis = 1).columns\n",
    "    df.drop(col_list, axis=1, inplace=True)\n",
    "    df.rename(columns={'Close': asset}, inplace=True)\n",
    "  df = pd.concat(df_list, axis=1, ignore_index=False)\n",
    "  df = df.fillna(method='ffill').reindex(index=date_range, method='ffill')\n",
    "  df.dropna(how='any', inplace=True)\n",
    "  return df"
   ]
  },
  {
   "cell_type": "code",
   "execution_count": 51,
   "metadata": {},
   "outputs": [
    {
     "output_type": "execute_result",
     "data": {
      "text/plain": [
       "'S&P 500'"
      ]
     },
     "metadata": {},
     "execution_count": 51
    }
   ],
   "source": [
    "get_symbol(\"^GSPC\")"
   ]
  },
  {
   "cell_type": "code",
   "execution_count": 65,
   "metadata": {},
   "outputs": [],
   "source": [
    "test = getport(start=\"2020-01-01\",end=\"2021-01-01\",symbols=[\"^GSPC\",\"^IXIC\"])"
   ]
  },
  {
   "cell_type": "code",
   "execution_count": 69,
   "metadata": {},
   "outputs": [
    {
     "output_type": "execute_result",
     "data": {
      "text/plain": [
       "                S&P 500  NASDAQ Composite\n",
       "2020-01-02  3257.850098       9092.190430\n",
       "2020-01-03  3234.850098       9020.769531\n",
       "2020-01-06  3246.280029       9071.469727\n",
       "2020-01-07  3237.179932       9068.580078\n",
       "2020-01-08  3253.050049       9129.240234\n",
       "...                 ...               ...\n",
       "2020-12-28  3735.360107      12899.419922\n",
       "2020-12-29  3727.040039      12850.219727\n",
       "2020-12-30  3732.040039      12870.000000\n",
       "2020-12-31  3756.070068      12888.280273\n",
       "2021-01-01  3756.070068      12888.280273\n",
       "\n",
       "[262 rows x 2 columns]"
      ],
      "text/html": "<div>\n<style scoped>\n    .dataframe tbody tr th:only-of-type {\n        vertical-align: middle;\n    }\n\n    .dataframe tbody tr th {\n        vertical-align: top;\n    }\n\n    .dataframe thead th {\n        text-align: right;\n    }\n</style>\n<table border=\"1\" class=\"dataframe\">\n  <thead>\n    <tr style=\"text-align: right;\">\n      <th></th>\n      <th>S&amp;P 500</th>\n      <th>NASDAQ Composite</th>\n    </tr>\n  </thead>\n  <tbody>\n    <tr>\n      <th>2020-01-02</th>\n      <td>3257.850098</td>\n      <td>9092.190430</td>\n    </tr>\n    <tr>\n      <th>2020-01-03</th>\n      <td>3234.850098</td>\n      <td>9020.769531</td>\n    </tr>\n    <tr>\n      <th>2020-01-06</th>\n      <td>3246.280029</td>\n      <td>9071.469727</td>\n    </tr>\n    <tr>\n      <th>2020-01-07</th>\n      <td>3237.179932</td>\n      <td>9068.580078</td>\n    </tr>\n    <tr>\n      <th>2020-01-08</th>\n      <td>3253.050049</td>\n      <td>9129.240234</td>\n    </tr>\n    <tr>\n      <th>...</th>\n      <td>...</td>\n      <td>...</td>\n    </tr>\n    <tr>\n      <th>2020-12-28</th>\n      <td>3735.360107</td>\n      <td>12899.419922</td>\n    </tr>\n    <tr>\n      <th>2020-12-29</th>\n      <td>3727.040039</td>\n      <td>12850.219727</td>\n    </tr>\n    <tr>\n      <th>2020-12-30</th>\n      <td>3732.040039</td>\n      <td>12870.000000</td>\n    </tr>\n    <tr>\n      <th>2020-12-31</th>\n      <td>3756.070068</td>\n      <td>12888.280273</td>\n    </tr>\n    <tr>\n      <th>2021-01-01</th>\n      <td>3756.070068</td>\n      <td>12888.280273</td>\n    </tr>\n  </tbody>\n</table>\n<p>262 rows × 2 columns</p>\n</div>"
     },
     "metadata": {},
     "execution_count": 69
    }
   ],
   "source": [
    "test"
   ]
  },
  {
   "cell_type": "code",
   "execution_count": 72,
   "metadata": {},
   "outputs": [
    {
     "output_type": "execute_result",
     "data": {
      "text/plain": [
       "S&P 500             0.152929\n",
       "NASDAQ Composite    0.417511\n",
       "dtype: float64"
      ]
     },
     "metadata": {},
     "execution_count": 72
    }
   ],
   "source": [
    "(test.iloc[-1]-test.iloc[0])/test.iloc[0]"
   ]
  },
  {
   "source": [
    "# Efficient Frontier Formula\n",
    "Expected Return of the portfolio is the weighted sum of Expected Return of all assets\n",
    "$$E(Rp)=\\sum_{i} w_i E(R_i)$$\n",
    "Expected Variance of the portfolio is the \n",
    "$$Var(R_p) = w^2_1Var(R_1)+w^2_2Var(R_2)+2w_1w_2$$\n"
   ],
   "cell_type": "markdown",
   "metadata": {}
  },
  {
   "cell_type": "code",
   "execution_count": 75,
   "metadata": {},
   "outputs": [
    {
     "output_type": "execute_result",
     "data": {
      "text/plain": [
       "                   S&P 500  NASDAQ Composite\n",
       "S&P 500           0.000456          0.000451\n",
       "NASDAQ Composite  0.000451          0.000484"
      ],
      "text/html": "<div>\n<style scoped>\n    .dataframe tbody tr th:only-of-type {\n        vertical-align: middle;\n    }\n\n    .dataframe tbody tr th {\n        vertical-align: top;\n    }\n\n    .dataframe thead th {\n        text-align: right;\n    }\n</style>\n<table border=\"1\" class=\"dataframe\">\n  <thead>\n    <tr style=\"text-align: right;\">\n      <th></th>\n      <th>S&amp;P 500</th>\n      <th>NASDAQ Composite</th>\n    </tr>\n  </thead>\n  <tbody>\n    <tr>\n      <th>S&amp;P 500</th>\n      <td>0.000456</td>\n      <td>0.000451</td>\n    </tr>\n    <tr>\n      <th>NASDAQ Composite</th>\n      <td>0.000451</td>\n      <td>0.000484</td>\n    </tr>\n  </tbody>\n</table>\n</div>"
     },
     "metadata": {},
     "execution_count": 75
    }
   ],
   "source": [
    "test.pct_change().cov()"
   ]
  },
  {
   "cell_type": "code",
   "execution_count": null,
   "metadata": {},
   "outputs": [],
   "source": []
  }
 ]
}